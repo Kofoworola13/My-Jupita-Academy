{
 "cells": [
  {
   "cell_type": "markdown",
   "id": "590b923d",
   "metadata": {},
   "source": [
    "## Importing libraries"
   ]
  },
  {
   "cell_type": "code",
   "execution_count": 4,
   "id": "5789a826",
   "metadata": {},
   "outputs": [],
   "source": [
    "import numpy as np \n",
    "from statistics import mode"
   ]
  },
  {
   "cell_type": "markdown",
   "id": "867d8aa5",
   "metadata": {},
   "source": [
    "## 1. Measure of Central Tendency"
   ]
  },
  {
   "cell_type": "code",
   "execution_count": 13,
   "id": "38fedda2",
   "metadata": {},
   "outputs": [],
   "source": [
    "ages = [5, 7, 2, 8, 5, 3, 7]"
   ]
  },
  {
   "cell_type": "code",
   "execution_count": 15,
   "id": "793808a4",
   "metadata": {},
   "outputs": [
    {
     "name": "stdout",
     "output_type": "stream",
     "text": [
      "The mean age is 5\n"
     ]
    }
   ],
   "source": [
    "# a. mean\n",
    "\n",
    "mean_age = np.average(ages)\n",
    "\n",
    "print(\"The mean age is\", round(mean_age))"
   ]
  },
  {
   "cell_type": "code",
   "execution_count": 16,
   "id": "89211b95",
   "metadata": {},
   "outputs": [
    {
     "name": "stdout",
     "output_type": "stream",
     "text": [
      "The median age is 5\n"
     ]
    }
   ],
   "source": [
    "# b. median\n",
    "\n",
    "median_age = np.median(ages)\n",
    "\n",
    "print(\"The median age is\", round(median_age))"
   ]
  },
  {
   "cell_type": "code",
   "execution_count": 17,
   "id": "bce2113c",
   "metadata": {},
   "outputs": [
    {
     "name": "stdout",
     "output_type": "stream",
     "text": [
      "The mode age is 5\n"
     ]
    }
   ],
   "source": [
    "# c. mode\n",
    "\n",
    "mode_age = mode(ages)\n",
    "\n",
    "print(\"The mode age is\", round(mode_age))"
   ]
  },
  {
   "cell_type": "markdown",
   "id": "683173a8",
   "metadata": {},
   "source": [
    "## 2. Measures of Dispersion"
   ]
  },
  {
   "cell_type": "code",
   "execution_count": 1,
   "id": "85029162",
   "metadata": {},
   "outputs": [],
   "source": [
    "data = [12, 15, 18, 22, 25]"
   ]
  },
  {
   "cell_type": "code",
   "execution_count": 2,
   "id": "dc3ddf88",
   "metadata": {},
   "outputs": [
    {
     "name": "stdout",
     "output_type": "stream",
     "text": [
      "The range of the data is 13\n"
     ]
    }
   ],
   "source": [
    "range = max(data) - min(data)\n",
    "\n",
    "print(\"The range of the data is\", range)"
   ]
  },
  {
   "cell_type": "code",
   "execution_count": 7,
   "id": "0ed7466e",
   "metadata": {},
   "outputs": [
    {
     "name": "stdout",
     "output_type": "stream",
     "text": [
      "The variance of the data is 21.8\n"
     ]
    }
   ],
   "source": [
    "variance = np.var(data)\n",
    "\n",
    "print(\"The variance of the data is\", round(variance, 1))"
   ]
  },
  {
   "cell_type": "code",
   "execution_count": 8,
   "id": "25285a54",
   "metadata": {},
   "outputs": [
    {
     "name": "stdout",
     "output_type": "stream",
     "text": [
      "The standard deviation of the data is 4.7\n"
     ]
    }
   ],
   "source": [
    "s_dev = np.std(data)\n",
    "\n",
    "print(\"The standard deviation of the data is\", round(s_dev, 1))"
   ]
  },
  {
   "cell_type": "markdown",
   "id": "6681838a",
   "metadata": {},
   "source": [
    "## 3. Outlier Detection"
   ]
  },
  {
   "cell_type": "code",
   "execution_count": 11,
   "id": "28ab638d",
   "metadata": {},
   "outputs": [],
   "source": [
    "def outlier_check(sample):\n",
    "    q1 = np.percentile(sample, 25)\n",
    "    q3 = np.percentile(sample, 75)\n",
    "    IQR = q3 - q1\n",
    "    constant = 1.5\n",
    "    lower_bound = q1 - (constant * IQR)\n",
    "    upper_bound = q3 + (constant * IQR)\n",
    "    outliers = [x for x in sample \n",
    "               if x < lower_bound or x > upper_bound]\n",
    "    return outliers"
   ]
  },
  {
   "cell_type": "code",
   "execution_count": 13,
   "id": "0a41d1fa",
   "metadata": {},
   "outputs": [
    {
     "name": "stdout",
     "output_type": "stream",
     "text": [
      "Outliers: [95]\n"
     ]
    }
   ],
   "source": [
    "sample = [17, 20, 21, 18, 95, 22, 19, 23]\n",
    "\n",
    "outliers = outlier_check(sample)\n",
    "\n",
    "print(\"Outliers:\", outliers)"
   ]
  },
  {
   "cell_type": "markdown",
   "id": "75d8ecc0",
   "metadata": {},
   "source": [
    "## 4. Normal Distribution and Z-Score"
   ]
  },
  {
   "cell_type": "code",
   "execution_count": 15,
   "id": "997893ae",
   "metadata": {},
   "outputs": [],
   "source": [
    "def z_score_calculator(value, mean, std_dev):\n",
    "    z_score = (value - mean) / std_dev"
   ]
  },
  {
   "cell_type": "code",
   "execution_count": 20,
   "id": "00f501f5",
   "metadata": {},
   "outputs": [
    {
     "name": "stdout",
     "output_type": "stream",
     "text": [
      "The z score of 85 is None\n"
     ]
    }
   ],
   "source": [
    "z_score = z_score_calculator(85, 75, 10)\n",
    "\n",
    "print(\"The z score of 85 is\", z_score)"
   ]
  },
  {
   "cell_type": "markdown",
   "id": "2ac6a529",
   "metadata": {},
   "source": [
    "## 5. Correlation and Covariance"
   ]
  },
  {
   "cell_type": "code",
   "execution_count": 26,
   "id": "936bda42",
   "metadata": {},
   "outputs": [],
   "source": [
    "salary_in_thousands = [15, 20, 25, 30, 35] \n",
    "years_of_experience = [10, 18, 22, 28, 40]"
   ]
  },
  {
   "cell_type": "code",
   "execution_count": 28,
   "id": "f68a51f5",
   "metadata": {},
   "outputs": [
    {
     "data": {
      "text/plain": [
       "87.5"
      ]
     },
     "execution_count": 28,
     "metadata": {},
     "output_type": "execute_result"
    }
   ],
   "source": [
    "covariance = np.cov(salary_in_thousands, years_of_experience)[0][1]\n",
    "\n",
    "covariance"
   ]
  },
  {
   "cell_type": "code",
   "execution_count": 30,
   "id": "4d06d743",
   "metadata": {},
   "outputs": [
    {
     "data": {
      "text/plain": [
       "0.98"
      ]
     },
     "execution_count": 30,
     "metadata": {},
     "output_type": "execute_result"
    }
   ],
   "source": [
    "correlation_coefficient = np.corrcoef(salary_in_thousands, years_of_experience)[0][1]\n",
    "\n",
    "round(correlation_coefficient, 2)"
   ]
  },
  {
   "cell_type": "code",
   "execution_count": null,
   "id": "04b3b3de",
   "metadata": {},
   "outputs": [],
   "source": []
  }
 ],
 "metadata": {
  "kernelspec": {
   "display_name": "Python 3 (ipykernel)",
   "language": "python",
   "name": "python3"
  },
  "language_info": {
   "codemirror_mode": {
    "name": "ipython",
    "version": 3
   },
   "file_extension": ".py",
   "mimetype": "text/x-python",
   "name": "python",
   "nbconvert_exporter": "python",
   "pygments_lexer": "ipython3",
   "version": "3.11.3"
  }
 },
 "nbformat": 4,
 "nbformat_minor": 5
}
