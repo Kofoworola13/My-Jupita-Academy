{
  "nbformat": 4,
  "nbformat_minor": 0,
  "metadata": {
    "colab": {
      "provenance": []
    },
    "kernelspec": {
      "name": "python3",
      "display_name": "Python 3"
    },
    "language_info": {
      "name": "python"
    }
  },
  "cells": [
    {
      "cell_type": "markdown",
      "source": [
        "**1. Data Type and Basic Arithmetic**\n",
        "\n",
        "Scenario:\n",
        "The school wants to keep track of the number of students in each grade. They currently have the following data:\n",
        "\n",
        "- Grade 1: 25 students - Grade 2: 30 students - Grade 3: 28 students\n",
        "\n",
        "You need to perform the following tasks:\n",
        "\n",
        "a. Calculate and display the total number of students.\n",
        "\n",
        "\n",
        "b. Calculate and display the average number of students per grade.\n",
        "\n"
      ],
      "metadata": {
        "id": "xdWFSD9X30vk"
      }
    },
    {
      "cell_type": "code",
      "execution_count": 2,
      "metadata": {
        "id": "IWFiNyS_mh-n"
      },
      "outputs": [],
      "source": [
        "# assigning the variables\n",
        "\n",
        "grade_1, grade_2, grade_3 = 25, 30, 28"
      ]
    },
    {
      "cell_type": "code",
      "source": [
        "# calculating the total number of students\n",
        "\n",
        "total_students = grade_1 + grade_2 + grade_3\n",
        "\n",
        "print(\"There are\", total_students, \"students in the school\")"
      ],
      "metadata": {
        "colab": {
          "base_uri": "https://localhost:8080/"
        },
        "id": "e9sFlSW240RT",
        "outputId": "89ffd5cc-d67e-42ae-f4e3-76fc7cc216c7"
      },
      "execution_count": 3,
      "outputs": [
        {
          "output_type": "stream",
          "name": "stdout",
          "text": [
            "There are 83 students in the school\n"
          ]
        }
      ]
    },
    {
      "cell_type": "code",
      "source": [
        "# calculating the average number of students\n",
        "\n",
        "average_students = round(total_students/3, 0)\n",
        "\n",
        "print(\"There are\", average_students, \"students on average per grade\")"
      ],
      "metadata": {
        "colab": {
          "base_uri": "https://localhost:8080/"
        },
        "id": "x8v6emdP5gYO",
        "outputId": "400230fd-340c-4b64-df99-c19a85dd6396"
      },
      "execution_count": 7,
      "outputs": [
        {
          "output_type": "stream",
          "name": "stdout",
          "text": [
            "There are 28.0 students on average per grade\n"
          ]
        }
      ]
    },
    {
      "cell_type": "markdown",
      "source": [
        "**2. Variable Assignment and String Manipulation**\n",
        "\n",
        "Scenario:\n",
        "The school also wants to keep track of some important messages for different grades. They have prepared the following messages:\n",
        "\n",
        "- Grade 1: \"Welcome to Grade 1! We are excited to have you.\"\n",
        "- Grade 2: \"Hello Grade 2 students! Get ready to learn and have fun.\"\n",
        "- Grade 3: \"Welcome Grade 3 students. Let's make this a great year of learning.\"\n",
        "\n",
        "You need to perform the following tasks:\n",
        "\n",
        "a. Store the messages in variables corresponding to each grade.\n",
        "\n",
        "b. Display the messages for Grade 2."
      ],
      "metadata": {
        "id": "SjTOnHE3DTJk"
      }
    },
    {
      "cell_type": "code",
      "source": [
        "# a. Storing the messages\n",
        "\n",
        "grade_1_msg = \"Welcome to Grade 1! We are excited to have you.\"\n",
        "grade_2_msg = \"Hello Grade 2 students! Get ready to learn and have fun.\"\n",
        "grade_3_msg = \"Welcome Grade 3 students. Let's make this a great year of learning.\""
      ],
      "metadata": {
        "id": "hq4f1cLh_ZNh"
      },
      "execution_count": 19,
      "outputs": []
    },
    {
      "cell_type": "code",
      "source": [
        "# b. displaying messages\n",
        "grade_2_msg"
      ],
      "metadata": {
        "colab": {
          "base_uri": "https://localhost:8080/",
          "height": 38
        },
        "id": "IjcPG2oMEObV",
        "outputId": "8b2fa12d-73f4-48c1-816a-9c5210e3b779"
      },
      "execution_count": 20,
      "outputs": [
        {
          "output_type": "execute_result",
          "data": {
            "text/plain": [
              "'Hello Grade 2 students! Get ready to learn and have fun.'"
            ],
            "application/vnd.google.colaboratory.intrinsic+json": {
              "type": "string"
            }
          },
          "metadata": {},
          "execution_count": 20
        }
      ]
    },
    {
      "cell_type": "markdown",
      "source": [
        "**3. Lists and Dictionaries**\n",
        "\n",
        "Scenario:\n",
        "The school wants to store a list of subjects for each grade, along with the names of teachers who teach those subjects. Here's the data they have:\n",
        "\n",
        "- Grade 1: Subjects - Math, English, Science; Teachers - Mr. Smith, Ms. Johnson, Mr. Davis\n",
        "- Grade 2: Subjects - English, Science, History; Teachers - Ms. Williams, Mr. Davis, Ms. Brown\n",
        "- Grade 3: Subjects - Science, History, Math; Teachers - Ms. Davis, Mr. Johnson, Mr. Smith\n",
        "\n",
        "You need to perform the following tasks:\n",
        "\n",
        "1. Create a list of grades\n",
        "\n",
        "2. Create a list of subjects for each grade.\n",
        "\n",
        "3. Create a dictionary where keys are the grade names and values are lists of teachers for each grade.\n",
        "\n",
        "4. Display the subjects taught in Grade 3.\n",
        "\n",
        "5. Display the values of Grade 2 in the dictionary."
      ],
      "metadata": {
        "id": "7Gc1YGpZEbFQ"
      }
    },
    {
      "cell_type": "code",
      "source": [
        "# 1. list of grades\n",
        "grades = ['grade_1', 'grade_2', 'grade_3']"
      ],
      "metadata": {
        "id": "AXGI7G18EXAC"
      },
      "execution_count": 21,
      "outputs": []
    },
    {
      "cell_type": "code",
      "source": [
        "# 2. list of subjects\n",
        "subjects = [['Math', 'English', 'Science'], ['English', 'Science', 'History'], ['Science', 'History', 'Math']]"
      ],
      "metadata": {
        "id": "99Gr44aRJlBI"
      },
      "execution_count": 25,
      "outputs": []
    },
    {
      "cell_type": "code",
      "source": [
        "# 3. creating a dictionary\n",
        "dict = {'grade_1': ['Mr. Smith', 'Ms. Johnson', 'Mr. Davis'], 'grade_2': ['Ms. Williams', 'Mr. Davis', 'Ms. Brown'], 'grade_3': ['Ms. Davis', 'Mr. Johnson', 'Mr. Smith']}"
      ],
      "metadata": {
        "id": "eDwscvZgKOjG"
      },
      "execution_count": 28,
      "outputs": []
    },
    {
      "cell_type": "code",
      "source": [
        "# 4. subjects taught in grade 3\n",
        "subjects[2]"
      ],
      "metadata": {
        "colab": {
          "base_uri": "https://localhost:8080/"
        },
        "id": "uYdPl7hbLjiZ",
        "outputId": "3c2a1c5f-9a3d-491b-ffbb-f94e176e526d"
      },
      "execution_count": 31,
      "outputs": [
        {
          "output_type": "execute_result",
          "data": {
            "text/plain": [
              "['Science', 'History', 'Math']"
            ]
          },
          "metadata": {},
          "execution_count": 31
        }
      ]
    },
    {
      "cell_type": "code",
      "source": [
        "# 4. values of grade 2 in the dictionary\n",
        "dict['grade_2']"
      ],
      "metadata": {
        "colab": {
          "base_uri": "https://localhost:8080/"
        },
        "id": "6joGJju9L214",
        "outputId": "350135a2-cebd-4de1-a2e1-87a47d368ee4"
      },
      "execution_count": 34,
      "outputs": [
        {
          "output_type": "execute_result",
          "data": {
            "text/plain": [
              "['Ms. Williams', 'Mr. Davis', 'Ms. Brown']"
            ]
          },
          "metadata": {},
          "execution_count": 34
        }
      ]
    },
    {
      "cell_type": "code",
      "source": [],
      "metadata": {
        "id": "l544dtFvMOXE"
      },
      "execution_count": null,
      "outputs": []
    }
  ]
}